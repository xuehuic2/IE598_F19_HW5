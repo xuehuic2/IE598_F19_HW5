{
 "cells": [
  {
   "cell_type": "code",
   "execution_count": 468,
   "metadata": {},
   "outputs": [],
   "source": [
    "import pandas as pd\n",
    "import matplotlib.pyplot as plt\n",
    "from scipy.stats import pearsonr"
   ]
  },
  {
   "cell_type": "code",
   "execution_count": 469,
   "metadata": {},
   "outputs": [],
   "source": [
    "df = pd.read_csv('hw5_treasury yield curve data.csv')"
   ]
  },
  {
   "cell_type": "code",
   "execution_count": 470,
   "metadata": {},
   "outputs": [],
   "source": [
    "df=df.dropna()"
   ]
  },
  {
   "cell_type": "code",
   "execution_count": 488,
   "metadata": {},
   "outputs": [
    {
     "data": {
      "text/html": [
       "<div>\n",
       "<style scoped>\n",
       "    .dataframe tbody tr th:only-of-type {\n",
       "        vertical-align: middle;\n",
       "    }\n",
       "\n",
       "    .dataframe tbody tr th {\n",
       "        vertical-align: top;\n",
       "    }\n",
       "\n",
       "    .dataframe thead th {\n",
       "        text-align: right;\n",
       "    }\n",
       "</style>\n",
       "<table border=\"1\" class=\"dataframe\">\n",
       "  <thead>\n",
       "    <tr style=\"text-align: right;\">\n",
       "      <th></th>\n",
       "      <th>Date</th>\n",
       "      <th>SVENF01</th>\n",
       "      <th>SVENF02</th>\n",
       "      <th>SVENF03</th>\n",
       "      <th>SVENF04</th>\n",
       "      <th>SVENF05</th>\n",
       "      <th>SVENF06</th>\n",
       "      <th>SVENF07</th>\n",
       "      <th>SVENF08</th>\n",
       "      <th>SVENF09</th>\n",
       "      <th>...</th>\n",
       "      <th>SVENF22</th>\n",
       "      <th>SVENF23</th>\n",
       "      <th>SVENF24</th>\n",
       "      <th>SVENF25</th>\n",
       "      <th>SVENF26</th>\n",
       "      <th>SVENF27</th>\n",
       "      <th>SVENF28</th>\n",
       "      <th>SVENF29</th>\n",
       "      <th>SVENF30</th>\n",
       "      <th>Adj_Close</th>\n",
       "    </tr>\n",
       "  </thead>\n",
       "  <tbody>\n",
       "    <tr>\n",
       "      <td>0</td>\n",
       "      <td>5/17/2019</td>\n",
       "      <td>2.1224</td>\n",
       "      <td>2.0266</td>\n",
       "      <td>2.1023</td>\n",
       "      <td>2.2377</td>\n",
       "      <td>2.3790</td>\n",
       "      <td>2.5042</td>\n",
       "      <td>2.6069</td>\n",
       "      <td>2.6885</td>\n",
       "      <td>2.7530</td>\n",
       "      <td>...</td>\n",
       "      <td>3.3355</td>\n",
       "      <td>3.3876</td>\n",
       "      <td>3.4400</td>\n",
       "      <td>3.4925</td>\n",
       "      <td>3.5446</td>\n",
       "      <td>3.5962</td>\n",
       "      <td>3.6471</td>\n",
       "      <td>3.6970</td>\n",
       "      <td>3.7458</td>\n",
       "      <td>10.130177</td>\n",
       "    </tr>\n",
       "    <tr>\n",
       "      <td>1</td>\n",
       "      <td>5/16/2019</td>\n",
       "      <td>2.1239</td>\n",
       "      <td>2.0317</td>\n",
       "      <td>2.1096</td>\n",
       "      <td>2.2468</td>\n",
       "      <td>2.3901</td>\n",
       "      <td>2.5171</td>\n",
       "      <td>2.6217</td>\n",
       "      <td>2.7049</td>\n",
       "      <td>2.7710</td>\n",
       "      <td>...</td>\n",
       "      <td>3.3574</td>\n",
       "      <td>3.4091</td>\n",
       "      <td>3.4610</td>\n",
       "      <td>3.5130</td>\n",
       "      <td>3.5646</td>\n",
       "      <td>3.6156</td>\n",
       "      <td>3.6660</td>\n",
       "      <td>3.7153</td>\n",
       "      <td>3.7636</td>\n",
       "      <td>10.130177</td>\n",
       "    </tr>\n",
       "    <tr>\n",
       "      <td>2</td>\n",
       "      <td>5/15/2019</td>\n",
       "      <td>2.0874</td>\n",
       "      <td>1.9956</td>\n",
       "      <td>2.0844</td>\n",
       "      <td>2.2289</td>\n",
       "      <td>2.3736</td>\n",
       "      <td>2.4980</td>\n",
       "      <td>2.5984</td>\n",
       "      <td>2.6779</td>\n",
       "      <td>2.7418</td>\n",
       "      <td>...</td>\n",
       "      <td>3.3589</td>\n",
       "      <td>3.4086</td>\n",
       "      <td>3.4575</td>\n",
       "      <td>3.5055</td>\n",
       "      <td>3.5524</td>\n",
       "      <td>3.5980</td>\n",
       "      <td>3.6421</td>\n",
       "      <td>3.6847</td>\n",
       "      <td>3.7257</td>\n",
       "      <td>10.150118</td>\n",
       "    </tr>\n",
       "    <tr>\n",
       "      <td>3</td>\n",
       "      <td>5/14/2019</td>\n",
       "      <td>2.1319</td>\n",
       "      <td>2.0559</td>\n",
       "      <td>2.1451</td>\n",
       "      <td>2.2856</td>\n",
       "      <td>2.4257</td>\n",
       "      <td>2.5461</td>\n",
       "      <td>2.6428</td>\n",
       "      <td>2.7188</td>\n",
       "      <td>2.7791</td>\n",
       "      <td>...</td>\n",
       "      <td>3.3940</td>\n",
       "      <td>3.4485</td>\n",
       "      <td>3.5029</td>\n",
       "      <td>3.5568</td>\n",
       "      <td>3.6099</td>\n",
       "      <td>3.6622</td>\n",
       "      <td>3.7132</td>\n",
       "      <td>3.7630</td>\n",
       "      <td>3.8113</td>\n",
       "      <td>10.130177</td>\n",
       "    </tr>\n",
       "    <tr>\n",
       "      <td>4</td>\n",
       "      <td>5/13/2019</td>\n",
       "      <td>2.1051</td>\n",
       "      <td>2.0234</td>\n",
       "      <td>2.1180</td>\n",
       "      <td>2.2632</td>\n",
       "      <td>2.4051</td>\n",
       "      <td>2.5248</td>\n",
       "      <td>2.6198</td>\n",
       "      <td>2.6940</td>\n",
       "      <td>2.7532</td>\n",
       "      <td>...</td>\n",
       "      <td>3.3712</td>\n",
       "      <td>3.4227</td>\n",
       "      <td>3.4735</td>\n",
       "      <td>3.5234</td>\n",
       "      <td>3.5722</td>\n",
       "      <td>3.6196</td>\n",
       "      <td>3.6655</td>\n",
       "      <td>3.7098</td>\n",
       "      <td>3.7525</td>\n",
       "      <td>10.130177</td>\n",
       "    </tr>\n",
       "  </tbody>\n",
       "</table>\n",
       "<p>5 rows × 32 columns</p>\n",
       "</div>"
      ],
      "text/plain": [
       "        Date  SVENF01  SVENF02  SVENF03  SVENF04  SVENF05  SVENF06  SVENF07  \\\n",
       "0  5/17/2019   2.1224   2.0266   2.1023   2.2377   2.3790   2.5042   2.6069   \n",
       "1  5/16/2019   2.1239   2.0317   2.1096   2.2468   2.3901   2.5171   2.6217   \n",
       "2  5/15/2019   2.0874   1.9956   2.0844   2.2289   2.3736   2.4980   2.5984   \n",
       "3  5/14/2019   2.1319   2.0559   2.1451   2.2856   2.4257   2.5461   2.6428   \n",
       "4  5/13/2019   2.1051   2.0234   2.1180   2.2632   2.4051   2.5248   2.6198   \n",
       "\n",
       "   SVENF08  SVENF09  ...  SVENF22  SVENF23  SVENF24  SVENF25  SVENF26  \\\n",
       "0   2.6885   2.7530  ...   3.3355   3.3876   3.4400   3.4925   3.5446   \n",
       "1   2.7049   2.7710  ...   3.3574   3.4091   3.4610   3.5130   3.5646   \n",
       "2   2.6779   2.7418  ...   3.3589   3.4086   3.4575   3.5055   3.5524   \n",
       "3   2.7188   2.7791  ...   3.3940   3.4485   3.5029   3.5568   3.6099   \n",
       "4   2.6940   2.7532  ...   3.3712   3.4227   3.4735   3.5234   3.5722   \n",
       "\n",
       "   SVENF27  SVENF28  SVENF29  SVENF30  Adj_Close  \n",
       "0   3.5962   3.6471   3.6970   3.7458  10.130177  \n",
       "1   3.6156   3.6660   3.7153   3.7636  10.130177  \n",
       "2   3.5980   3.6421   3.6847   3.7257  10.150118  \n",
       "3   3.6622   3.7132   3.7630   3.8113  10.130177  \n",
       "4   3.6196   3.6655   3.7098   3.7525  10.130177  \n",
       "\n",
       "[5 rows x 32 columns]"
      ]
     },
     "execution_count": 488,
     "metadata": {},
     "output_type": "execute_result"
    }
   ],
   "source": [
    "df.head()"
   ]
  },
  {
   "cell_type": "code",
   "execution_count": 472,
   "metadata": {},
   "outputs": [],
   "source": [
    "#df.describe()"
   ]
  },
  {
   "cell_type": "code",
   "execution_count": 473,
   "metadata": {},
   "outputs": [],
   "source": [
    "datX = df[df.columns[1:31]]"
   ]
  },
  {
   "cell_type": "code",
   "execution_count": 474,
   "metadata": {},
   "outputs": [],
   "source": [
    "#datX"
   ]
  },
  {
   "cell_type": "code",
   "execution_count": 475,
   "metadata": {},
   "outputs": [],
   "source": [
    "datX = pd.concat([datX], axis=1)\n",
    "from sklearn.preprocessing import StandardScaler\n",
    "\n",
    "#sc = StandardScaler()\n",
    "#sc.fit(datX)\n",
    "#datX_std = sc.transform(datX)"
   ]
  },
  {
   "cell_type": "code",
   "execution_count": 476,
   "metadata": {},
   "outputs": [],
   "source": [
    "from pandas import DataFrame\n",
    "#dataX = DataFrame.from_records(datX_std)\n",
    "#not scaler at this point \n",
    "dataX = datX"
   ]
  },
  {
   "cell_type": "code",
   "execution_count": 477,
   "metadata": {},
   "outputs": [],
   "source": [
    "datanumy = df[df.columns[31]]"
   ]
  },
  {
   "cell_type": "code",
   "execution_count": 478,
   "metadata": {},
   "outputs": [],
   "source": [
    "#datanumy"
   ]
  },
  {
   "cell_type": "code",
   "execution_count": 479,
   "metadata": {},
   "outputs": [],
   "source": [
    "dataXy= pd.concat([dataX, datanumy],axis=1)\n",
    "#dataXy"
   ]
  },
  {
   "cell_type": "code",
   "execution_count": 480,
   "metadata": {},
   "outputs": [],
   "source": [
    "cols = ['SVENF01', 'SVENF02', 'SVENF03', 'SVENF04', 'SVENF05','SVENF06','SVENF07','SVENF08','SVENF09','SVENF10','SVENF11','SVENF12','SVENF13','SVENF14','SVENF15','SVENF16','SVENF17','SVENF18','SVENF19','SVENF20','SVENF21','SVENF22','SVENF23','SVENF24','SVENF25','SVENF26','SVENF27','SVENF28','SVENF29','SVENF30','Adj_Close']"
   ]
  },
  {
   "cell_type": "code",
   "execution_count": 481,
   "metadata": {},
   "outputs": [],
   "source": [
    "col30 = ['SVENF01', 'SVENF02', 'SVENF03', 'SVENF04', 'SVENF05','SVENF06','SVENF07','SVENF08','SVENF09','SVENF10','SVENF11','SVENF12','SVENF13','SVENF14','SVENF15','SVENF16','SVENF17','SVENF18','SVENF19','SVENF20','SVENF21','SVENF22','SVENF23','SVENF24','SVENF25','SVENF26','SVENF27','SVENF28','SVENF29','SVENF30']"
   ]
  },
  {
   "cell_type": "code",
   "execution_count": 482,
   "metadata": {},
   "outputs": [],
   "source": [
    "import numpy as np\n",
    "\n",
    "cm = np.corrcoef(df[cols].values.T)\n",
    "\n",
    "cm30 = np.corrcoef(df[col30].values.T)\n",
    " "
   ]
  },
  {
   "cell_type": "code",
   "execution_count": 483,
   "metadata": {},
   "outputs": [
    {
     "data": {
      "image/png": "[encoded data removed]",
      "text/plain": [
       "<Figure size 432x288 with 2 Axes>"
      ]
     },
     "metadata": {},
     "output_type": "display_data"
    }
   ],
   "source": [
    "heat_map = sns.heatmap(cm)\n",
    "plt.show()"
   ]
  },
  {
   "cell_type": "code",
   "execution_count": 487,
   "metadata": {},
   "outputs": [
    {
     "data": {
      "image/png": "[encoded data removed]",
      "text/plain": [
       "<Figure size 432x288 with 2 Axes>"
      ]
     },
     "metadata": {},
     "output_type": "display_data"
    }
   ],
   "source": [
    "heat_map = sns.heatmap(cm30)\n",
    "#plt.axis('equal')\n",
    "\n",
    "plt.show()\n"
   ]
  },
  {
   "cell_type": "code",
   "execution_count": 489,
   "metadata": {},
   "outputs": [],
   "source": [
    "import sklearn\n",
    "from sklearn.model_selection import train_test_split\n",
    "from sklearn import preprocessing"
   ]
  },
  {
   "cell_type": "code",
   "execution_count": 490,
   "metadata": {},
   "outputs": [],
   "source": [
    "X = dataXy.iloc[:, 0:30].values\n"
   ]
  },
  {
   "cell_type": "code",
   "execution_count": 491,
   "metadata": {},
   "outputs": [
    {
     "data": {
      "text/plain": [
       "(8071, 30)"
      ]
     },
     "execution_count": 491,
     "metadata": {},
     "output_type": "execute_result"
    }
   ],
   "source": [
    "X.shape"
   ]
  },
  {
   "cell_type": "code",
   "execution_count": 492,
   "metadata": {},
   "outputs": [],
   "source": [
    "y = dataXy['Adj_Close'].values"
   ]
  },
  {
   "cell_type": "code",
   "execution_count": 493,
   "metadata": {},
   "outputs": [],
   "source": [
    "#Split data into training and test sets.  \n",
    "\n",
    "X_train, X_test, y_train, y_test = train_test_split(\n",
    "    X, y, test_size=0.15, random_state=42)"
   ]
  },
  {
   "cell_type": "code",
   "execution_count": 494,
   "metadata": {},
   "outputs": [],
   "source": [
    "#2.pca\n",
    "from sklearn.preprocessing import StandardScaler\n",
    "scaler = StandardScaler()\n",
    "sc.fit(X_train)\n",
    "sc.fit(X_test)\n",
    "\n",
    "X_train_std = sc.transform(X_train)\n",
    "X_test_std = sc.transform(X_test)"
   ]
  },
  {
   "cell_type": "code",
   "execution_count": 495,
   "metadata": {},
   "outputs": [
    {
     "data": {
      "image/png": "[encoded data removed]",
      "text/plain": [
       "<Figure size 432x288 with 1 Axes>"
      ]
     },
     "metadata": {},
     "output_type": "display_data"
    },
    {
     "name": "stdout",
     "output_type": "stream",
     "text": [
      "0.9863786944334032\n"
     ]
    }
   ],
   "source": [
    "# Perform the necessary imports\n",
    "import matplotlib.pyplot as plt\n",
    "from scipy.stats import pearsonr\n",
    "\n",
    "# bond\n",
    "bond0 = X_train[:,0]\n",
    "bond1 = X_train[:,1]\n",
    "bond2 = X_train[:,2]\n",
    "\n",
    "# yield\n",
    "ye = y_train\n",
    "\n",
    "# Scatter plot from each treasury, here we only see first 3 correlation\n",
    "plt.scatter(bond0, bond1)\n",
    "plt.scatter(bond1, bond2)\n",
    "#plt.scatter(bond2, ye)\n",
    "#plt.axis('')\n",
    "plt.show()\n",
    "\n",
    "\n",
    "# Calculate the Pearson correlation\n",
    "correlation, pvalue = pearsonr(bond0, bond1)\n",
    "\n",
    "# Display the correlation\n",
    "print(correlation)"
   ]
  },
  {
   "cell_type": "code",
   "execution_count": 496,
   "metadata": {},
   "outputs": [
    {
     "data": {
      "image/png": "[encoded data removed]",
      "text/plain": [
       "<Figure size 432x288 with 1 Axes>"
      ]
     },
     "metadata": {},
     "output_type": "display_data"
    }
   ],
   "source": [
    "# Perform the necessary imports\n",
    "from sklearn.decomposition import PCA\n",
    "from sklearn.preprocessing import StandardScaler\n",
    "from sklearn.pipeline import make_pipeline\n",
    "import matplotlib.pyplot as plt\n",
    "#del range\n",
    "# Create scaler: scaler\n",
    "scaler = StandardScaler()\n",
    "\n",
    "# Create a PCA instance: pca\n",
    "pca = PCA()\n",
    "\n",
    "# Create pipeline: pipeline\n",
    "pipeline = make_pipeline(scaler,pca)\n",
    "\n",
    "# Fit the pipeline to 'X_train_std'\n",
    "pipeline.fit(X_train_std)\n",
    "\n",
    "# Plot the explained variances\n",
    "features = range(pca.n_components_)\n",
    "plt.bar(features, pca.explained_variance_)\n",
    "plt.xlabel('PCA feature')\n",
    "plt.ylabel('variance')\n",
    "plt.xticks(features)\n",
    "plt.show()"
   ]
  },
  {
   "cell_type": "code",
   "execution_count": 497,
   "metadata": {},
   "outputs": [
    {
     "data": {
      "image/png": "[encoded data removed]",
      "text/plain": [
       "<Figure size 432x288 with 1 Axes>"
      ]
     },
     "metadata": {},
     "output_type": "display_data"
    }
   ],
   "source": [
    "plt.bar(features, pca.explained_variance_ratio_)\n",
    "plt.xlabel('PCA feature')\n",
    "plt.ylabel('variance')\n",
    "plt.xticks(features)\n",
    "plt.show()"
   ]
  },
  {
   "cell_type": "code",
   "execution_count": 438,
   "metadata": {},
   "outputs": [
    {
     "name": "stdout",
     "output_type": "stream",
     "text": [
      "(6860, 3)\n"
     ]
    }
   ],
   "source": [
    "# Import PCA\n",
    "from sklearn.decomposition import PCA\n",
    "\n",
    "# Create a PCA model with 3 components: pca\n",
    "pca = PCA(n_components=3)\n",
    "\n",
    "# Fit the PCA instance to the scaled samples\n",
    "sc.fit(X_train)\n",
    "X_train_std = sc.transform(X_train_std)\n",
    "X_test_std = sc.transform(X_test_std)\n",
    "\n",
    "pca.fit(X_train_std)\n",
    "\n",
    "# Transform the scaled samples: pca_features\n",
    "pca_features = pca.transform(X_train_std)\n",
    "#pca_features_ = pca.transform(X_test_std)\n",
    "# Print the shape of pca_features\n",
    "print(pca_features.shape)\n"
   ]
  },
  {
   "cell_type": "code",
   "execution_count": 439,
   "metadata": {},
   "outputs": [
    {
     "name": "stdout",
     "output_type": "stream",
     "text": [
      "[7.5547234  0.3523426  0.11600388]\n"
     ]
    }
   ],
   "source": [
    "print(pca.explained_variance_)"
   ]
  },
  {
   "cell_type": "code",
   "execution_count": 440,
   "metadata": {},
   "outputs": [
    {
     "data": {
      "text/plain": [
       "array([0.93688387, 0.04369506, 0.01438599])"
      ]
     },
     "execution_count": 440,
     "metadata": {},
     "output_type": "execute_result"
    }
   ],
   "source": [
    "pca.explained_variance_ratio_"
   ]
  },
  {
   "cell_type": "code",
   "execution_count": 441,
   "metadata": {},
   "outputs": [
    {
     "data": {
      "image/png": "[encoded data removed]",
      "text/plain": [
       "<Figure size 432x288 with 1 Axes>"
      ]
     },
     "metadata": {},
     "output_type": "display_data"
    }
   ],
   "source": [
    "plt.plot(np.cumsum(pca.explained_variance_ratio_))\n",
    "plt.xlabel('number of components')\n",
    "plt.ylabel('cumulative explained variance');"
   ]
  },
  {
   "cell_type": "code",
   "execution_count": 442,
   "metadata": {},
   "outputs": [],
   "source": [
    "#3.///////\n",
    "from sklearn.metrics import mean_squared_error\n",
    "from math import sqrt\n",
    "#rms = sqrt(mean_squared_error(y_actual, y_predicted))"
   ]
  },
  {
   "cell_type": "code",
   "execution_count": 443,
   "metadata": {},
   "outputs": [],
   "source": [
    "from sklearn.linear_model import LogisticRegression"
   ]
  },
  {
   "cell_type": "code",
   "execution_count": 444,
   "metadata": {},
   "outputs": [],
   "source": [
    "lr = LogisticRegression()"
   ]
  },
  {
   "cell_type": "code",
   "execution_count": 445,
   "metadata": {},
   "outputs": [],
   "source": [
    "#modify y type\n",
    "import numpy as np\n",
    "\n",
    "y_trainn = np.round(y_train)\n",
    "y_testn = np.round(y_test)"
   ]
  },
  {
   "cell_type": "code",
   "execution_count": 564,
   "metadata": {},
   "outputs": [
    {
     "name": "stdout",
     "output_type": "stream",
     "text": [
      "MSE train: 0.194, test: 0.187\n",
      "R^2 train: 0.969, test: 0.971\n",
      "RMSE train: 0.440, test: 0.432\n"
     ]
    },
    {
     "data": {
      "text/plain": [
       "0.85384"
      ]
     },
     "execution_count": 564,
     "metadata": {},
     "output_type": "execute_result"
    }
   ],
   "source": [
    "#a)Logistic regression classifier  with original dataset\n",
    "LR = LogisticRegression(random_state=0, solver='lbfgs',  multi_class='ovr').fit(X_train_std, y_trainn)\n",
    "#solver='lbfgs', multi_class='ovr'\n",
    "y_train_pred = LR.predict(X_train_std)\n",
    "y_test_pred = LR.predict(X_test_std)\n",
    "print('MSE train: %.3f, test: %.3f' % (\n",
    "        mean_squared_error(y_trainn, y_train_pred),\n",
    "        mean_squared_error(y_testn, y_test_pred)))\n",
    "print('R^2 train: %.3f, test: %.3f' % (\n",
    "        r2_score(y_trainn, y_train_pred),\n",
    "        r2_score(y_testn, y_test_pred)))\n",
    "print('RMSE train: %.3f, test: %.3f' % (\n",
    "        sqrt(mean_squared_error(y_trainn, y_train_pred)),\n",
    "       sqrt(mean_squared_error(y_testn, y_test_pred))))\n",
    "round(LR.score(X_test_std,y_testn), 5)"
   ]
  },
  {
   "cell_type": "code",
   "execution_count": 566,
   "metadata": {},
   "outputs": [
    {
     "data": {
      "text/plain": [
       "0.8507288629737609"
      ]
     },
     "execution_count": 566,
     "metadata": {},
     "output_type": "execute_result"
    }
   ],
   "source": [
    "sklearn.metrics.accuracy_score(y_trainn, y_train_pred, normalize=True, sample_weight=None)\n"
   ]
  },
  {
   "cell_type": "code",
   "execution_count": 567,
   "metadata": {},
   "outputs": [
    {
     "data": {
      "text/plain": [
       "0.8538398018166804"
      ]
     },
     "execution_count": 567,
     "metadata": {},
     "output_type": "execute_result"
    }
   ],
   "source": [
    "sklearn.metrics.accuracy_score(y_testn, y_test_pred, normalize=True, sample_weight=None)"
   ]
  },
  {
   "cell_type": "code",
   "execution_count": 448,
   "metadata": {},
   "outputs": [],
   "source": [
    "from sklearn.metrics import r2_score\n",
    "from sklearn.metrics import mean_squared_error"
   ]
  },
  {
   "cell_type": "code",
   "execution_count": 573,
   "metadata": {},
   "outputs": [
    {
     "name": "stdout",
     "output_type": "stream",
     "text": [
      "MSE train: 0.194, test: 0.187\n",
      "R^2 train: 0.969, test: 0.971\n",
      "RMSE train: 0.440, test: 0.433\n"
     ]
    },
    {
     "data": {
      "text/plain": [
       "0.85301"
      ]
     },
     "execution_count": 573,
     "metadata": {},
     "output_type": "execute_result"
    }
   ],
   "source": [
    "#Logistic regression classifier  with pca dataset\n",
    "X_train_pca = pca.fit_transform(X_train_std)\n",
    "X_test_pca = pca.transform(X_test_std)\n",
    "#multi_class='multinomial'\n",
    "LR = LogisticRegression(random_state=0, solver='lbfgs',multi_class='ovr' ).fit(X_train_pca, y_trainn)\n",
    "\n",
    "y_train_pred1 = LR.predict(X_train_pca)\n",
    "y_test_pred1 = LR.predict(X_test_pca)\n",
    "print('MSE train: %.3f, test: %.3f' % (\n",
    "        mean_squared_error(y_trainn, y_train_pred1),\n",
    "        mean_squared_error(y_testn, y_test_pred1)))\n",
    "print('R^2 train: %.3f, test: %.3f' % (\n",
    "        r2_score(y_trainn, y_train_pred1),\n",
    "        r2_score(y_testn, y_test_pred1)))\n",
    "print('RMSE train: %.3f, test: %.3f' % (\n",
    "        sqrt(mean_squared_error(y_trainn, y_train_pred1)),\n",
    "sqrt(mean_squared_error(y_testn, y_test_pred1))))\n",
    "round(LR.score(X_test_pca,y_testn), 5)"
   ]
  },
  {
   "cell_type": "code",
   "execution_count": 574,
   "metadata": {},
   "outputs": [
    {
     "data": {
      "text/plain": [
       "0.8507288629737609"
      ]
     },
     "execution_count": 574,
     "metadata": {},
     "output_type": "execute_result"
    }
   ],
   "source": [
    "sklearn.metrics.accuracy_score(y_trainn, y_train_pred1, normalize=True, sample_weight=None)"
   ]
  },
  {
   "cell_type": "code",
   "execution_count": 575,
   "metadata": {},
   "outputs": [
    {
     "data": {
      "text/plain": [
       "0.8530140379851362"
      ]
     },
     "execution_count": 575,
     "metadata": {},
     "output_type": "execute_result"
    }
   ],
   "source": [
    "sklearn.metrics.accuracy_score(y_testn, y_test_pred1, normalize=True, sample_weight=None)"
   ]
  },
  {
   "cell_type": "code",
   "execution_count": 523,
   "metadata": {},
   "outputs": [],
   "source": [
    "from sklearn import svm"
   ]
  },
  {
   "cell_type": "code",
   "execution_count": 576,
   "metadata": {},
   "outputs": [
    {
     "name": "stdout",
     "output_type": "stream",
     "text": [
      "MSE train: 0.056, test: 0.053\n",
      "R^2 train: 0.991, test: 0.992\n",
      "RMSE train: 0.236, test: 0.230\n"
     ]
    },
    {
     "data": {
      "text/plain": [
       "0.9472"
      ]
     },
     "execution_count": 576,
     "metadata": {},
     "output_type": "execute_result"
    }
   ],
   "source": [
    "#SVM regressor model with original dataset\n",
    "SVM = svm.SVC(kernel=\"linear\").fit(X_train, y_trainn)\n",
    "SVM.predict(X_test)\n",
    "round(SVM.score(X_test, y_testn), 4)\n",
    "y_train_pred = SVM.predict(X_train)\n",
    "y_test_pred = SVM.predict(X_test)\n",
    "print('MSE train: %.3f, test: %.3f' % (\n",
    "        mean_squared_error(y_trainn, y_train_pred),\n",
    "        mean_squared_error(y_testn, y_test_pred)))\n",
    "print('R^2 train: %.3f, test: %.3f' % (\n",
    "        r2_score(y_trainn, y_train_pred),\n",
    "        r2_score(y_testn, y_test_pred)))\n",
    "print('RMSE train: %.3f, test: %.3f' % (\n",
    "        sqrt(mean_squared_error(y_trainn, y_train_pred)),\n",
    "       sqrt(mean_squared_error(y_testn, y_test_pred))))\n",
    "round(SVM.score(X_test, y_testn), 4)"
   ]
  },
  {
   "cell_type": "code",
   "execution_count": 577,
   "metadata": {},
   "outputs": [
    {
     "data": {
      "text/plain": [
       "0.9441690962099125"
      ]
     },
     "execution_count": 577,
     "metadata": {},
     "output_type": "execute_result"
    }
   ],
   "source": [
    "sklearn.metrics.accuracy_score(y_trainn, y_train_pred, normalize=True, sample_weight=None)"
   ]
  },
  {
   "cell_type": "code",
   "execution_count": 578,
   "metadata": {},
   "outputs": [
    {
     "data": {
      "text/plain": [
       "0.9471511147811725"
      ]
     },
     "execution_count": 578,
     "metadata": {},
     "output_type": "execute_result"
    }
   ],
   "source": [
    "sklearn.metrics.accuracy_score(y_testn, y_test_pred, normalize=True, sample_weight=None)"
   ]
  },
  {
   "cell_type": "code",
   "execution_count": 579,
   "metadata": {},
   "outputs": [
    {
     "name": "stdout",
     "output_type": "stream",
     "text": [
      "MSE train: 0.066, test: 0.082\n",
      "R^2 train: 0.989, test: 0.987\n",
      "RMSE train: 0.257, test: 0.286\n"
     ]
    },
    {
     "data": {
      "text/plain": [
       "0.9315"
      ]
     },
     "execution_count": 579,
     "metadata": {},
     "output_type": "execute_result"
    }
   ],
   "source": [
    "#SVM regressor model with pca dataset\n",
    "SVM = svm.SVC(kernel=\"linear\").fit(X_train_pca, y_trainn)\n",
    "SVM.predict(X_test_pca)\n",
    "\n",
    "y_train_pred = SVM.predict(X_train_pca)\n",
    "y_test_pred = SVM.predict(X_test_pca)\n",
    "print('MSE train: %.3f, test: %.3f' % (\n",
    "        mean_squared_error(y_trainn, y_train_pred),\n",
    "        mean_squared_error(y_testn, y_test_pred)))\n",
    "print('R^2 train: %.3f, test: %.3f' % (\n",
    "        r2_score(y_trainn, y_train_pred),\n",
    "        r2_score(y_testn, y_test_pred)))\n",
    "print('RMSE train: %.3f, test: %.3f' % (\n",
    "        sqrt(mean_squared_error(y_trainn, y_train_pred)),\n",
    "       sqrt(mean_squared_error(y_testn, y_test_pred))))\n",
    "round(SVM.score(X_test_pca, y_testn), 4)"
   ]
  },
  {
   "cell_type": "code",
   "execution_count": 580,
   "metadata": {},
   "outputs": [
    {
     "data": {
      "text/plain": [
       "0.9338192419825073"
      ]
     },
     "execution_count": 580,
     "metadata": {},
     "output_type": "execute_result"
    }
   ],
   "source": [
    "sklearn.metrics.accuracy_score(y_trainn, y_train_pred, normalize=True, sample_weight=None)\n",
    "\n"
   ]
  },
  {
   "cell_type": "code",
   "execution_count": 581,
   "metadata": {},
   "outputs": [
    {
     "data": {
      "text/plain": [
       "0.9314616019818331"
      ]
     },
     "execution_count": 581,
     "metadata": {},
     "output_type": "execute_result"
    }
   ],
   "source": [
    "sklearn.metrics.accuracy_score(y_testn, y_test_pred, normalize=True, sample_weight=None)"
   ]
  },
  {
   "cell_type": "code",
   "execution_count": null,
   "metadata": {},
   "outputs": [],
   "source": [
    "print(\"My name is {Xuehui Chao}\")\n",
    "print(\"My NetID is: {xuehuic2}\")\n",
    "print(\"I hereby certify that I have read the University policy on Academic Integrity and that I am not in violation.\")\n",
    "\n"
   ]
  }
 ],
 "metadata": {
  "kernelspec": {
   "display_name": "Python 3",
   "language": "python",
   "name": "python3"
  },
  "language_info": {
   "codemirror_mode": {
    "name": "ipython",
    "version": 3
   },
   "file_extension": ".py",
   "mimetype": "text/x-python",
   "name": "python",
   "nbconvert_exporter": "python",
   "pygments_lexer": "ipython3",
   "version": "3.7.3"
  }
 },
 "nbformat": 4,
 "nbformat_minor": 4
}
